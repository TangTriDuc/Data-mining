{
 "cells": [
  {
   "cell_type": "markdown",
   "id": "d5c729bd",
   "metadata": {},
   "source": [
    "# 1. Classification"
   ]
  },
  {
   "cell_type": "markdown",
   "id": "3b2eed75",
   "metadata": {},
   "source": [
    "# Load this dataset from scikit-learn"
   ]
  },
  {
   "cell_type": "code",
   "execution_count": 1,
   "id": "633fddc3",
   "metadata": {},
   "outputs": [
    {
     "data": {
      "text/plain": [
       "{'data': array([[5.1, 3.5, 1.4, 0.2],\n",
       "        [4.9, 3. , 1.4, 0.2],\n",
       "        [4.7, 3.2, 1.3, 0.2],\n",
       "        [4.6, 3.1, 1.5, 0.2],\n",
       "        [5. , 3.6, 1.4, 0.2],\n",
       "        [5.4, 3.9, 1.7, 0.4],\n",
       "        [4.6, 3.4, 1.4, 0.3],\n",
       "        [5. , 3.4, 1.5, 0.2],\n",
       "        [4.4, 2.9, 1.4, 0.2],\n",
       "        [4.9, 3.1, 1.5, 0.1],\n",
       "        [5.4, 3.7, 1.5, 0.2],\n",
       "        [4.8, 3.4, 1.6, 0.2],\n",
       "        [4.8, 3. , 1.4, 0.1],\n",
       "        [4.3, 3. , 1.1, 0.1],\n",
       "        [5.8, 4. , 1.2, 0.2],\n",
       "        [5.7, 4.4, 1.5, 0.4],\n",
       "        [5.4, 3.9, 1.3, 0.4],\n",
       "        [5.1, 3.5, 1.4, 0.3],\n",
       "        [5.7, 3.8, 1.7, 0.3],\n",
       "        [5.1, 3.8, 1.5, 0.3],\n",
       "        [5.4, 3.4, 1.7, 0.2],\n",
       "        [5.1, 3.7, 1.5, 0.4],\n",
       "        [4.6, 3.6, 1. , 0.2],\n",
       "        [5.1, 3.3, 1.7, 0.5],\n",
       "        [4.8, 3.4, 1.9, 0.2],\n",
       "        [5. , 3. , 1.6, 0.2],\n",
       "        [5. , 3.4, 1.6, 0.4],\n",
       "        [5.2, 3.5, 1.5, 0.2],\n",
       "        [5.2, 3.4, 1.4, 0.2],\n",
       "        [4.7, 3.2, 1.6, 0.2],\n",
       "        [4.8, 3.1, 1.6, 0.2],\n",
       "        [5.4, 3.4, 1.5, 0.4],\n",
       "        [5.2, 4.1, 1.5, 0.1],\n",
       "        [5.5, 4.2, 1.4, 0.2],\n",
       "        [4.9, 3.1, 1.5, 0.2],\n",
       "        [5. , 3.2, 1.2, 0.2],\n",
       "        [5.5, 3.5, 1.3, 0.2],\n",
       "        [4.9, 3.6, 1.4, 0.1],\n",
       "        [4.4, 3. , 1.3, 0.2],\n",
       "        [5.1, 3.4, 1.5, 0.2],\n",
       "        [5. , 3.5, 1.3, 0.3],\n",
       "        [4.5, 2.3, 1.3, 0.3],\n",
       "        [4.4, 3.2, 1.3, 0.2],\n",
       "        [5. , 3.5, 1.6, 0.6],\n",
       "        [5.1, 3.8, 1.9, 0.4],\n",
       "        [4.8, 3. , 1.4, 0.3],\n",
       "        [5.1, 3.8, 1.6, 0.2],\n",
       "        [4.6, 3.2, 1.4, 0.2],\n",
       "        [5.3, 3.7, 1.5, 0.2],\n",
       "        [5. , 3.3, 1.4, 0.2],\n",
       "        [7. , 3.2, 4.7, 1.4],\n",
       "        [6.4, 3.2, 4.5, 1.5],\n",
       "        [6.9, 3.1, 4.9, 1.5],\n",
       "        [5.5, 2.3, 4. , 1.3],\n",
       "        [6.5, 2.8, 4.6, 1.5],\n",
       "        [5.7, 2.8, 4.5, 1.3],\n",
       "        [6.3, 3.3, 4.7, 1.6],\n",
       "        [4.9, 2.4, 3.3, 1. ],\n",
       "        [6.6, 2.9, 4.6, 1.3],\n",
       "        [5.2, 2.7, 3.9, 1.4],\n",
       "        [5. , 2. , 3.5, 1. ],\n",
       "        [5.9, 3. , 4.2, 1.5],\n",
       "        [6. , 2.2, 4. , 1. ],\n",
       "        [6.1, 2.9, 4.7, 1.4],\n",
       "        [5.6, 2.9, 3.6, 1.3],\n",
       "        [6.7, 3.1, 4.4, 1.4],\n",
       "        [5.6, 3. , 4.5, 1.5],\n",
       "        [5.8, 2.7, 4.1, 1. ],\n",
       "        [6.2, 2.2, 4.5, 1.5],\n",
       "        [5.6, 2.5, 3.9, 1.1],\n",
       "        [5.9, 3.2, 4.8, 1.8],\n",
       "        [6.1, 2.8, 4. , 1.3],\n",
       "        [6.3, 2.5, 4.9, 1.5],\n",
       "        [6.1, 2.8, 4.7, 1.2],\n",
       "        [6.4, 2.9, 4.3, 1.3],\n",
       "        [6.6, 3. , 4.4, 1.4],\n",
       "        [6.8, 2.8, 4.8, 1.4],\n",
       "        [6.7, 3. , 5. , 1.7],\n",
       "        [6. , 2.9, 4.5, 1.5],\n",
       "        [5.7, 2.6, 3.5, 1. ],\n",
       "        [5.5, 2.4, 3.8, 1.1],\n",
       "        [5.5, 2.4, 3.7, 1. ],\n",
       "        [5.8, 2.7, 3.9, 1.2],\n",
       "        [6. , 2.7, 5.1, 1.6],\n",
       "        [5.4, 3. , 4.5, 1.5],\n",
       "        [6. , 3.4, 4.5, 1.6],\n",
       "        [6.7, 3.1, 4.7, 1.5],\n",
       "        [6.3, 2.3, 4.4, 1.3],\n",
       "        [5.6, 3. , 4.1, 1.3],\n",
       "        [5.5, 2.5, 4. , 1.3],\n",
       "        [5.5, 2.6, 4.4, 1.2],\n",
       "        [6.1, 3. , 4.6, 1.4],\n",
       "        [5.8, 2.6, 4. , 1.2],\n",
       "        [5. , 2.3, 3.3, 1. ],\n",
       "        [5.6, 2.7, 4.2, 1.3],\n",
       "        [5.7, 3. , 4.2, 1.2],\n",
       "        [5.7, 2.9, 4.2, 1.3],\n",
       "        [6.2, 2.9, 4.3, 1.3],\n",
       "        [5.1, 2.5, 3. , 1.1],\n",
       "        [5.7, 2.8, 4.1, 1.3],\n",
       "        [6.3, 3.3, 6. , 2.5],\n",
       "        [5.8, 2.7, 5.1, 1.9],\n",
       "        [7.1, 3. , 5.9, 2.1],\n",
       "        [6.3, 2.9, 5.6, 1.8],\n",
       "        [6.5, 3. , 5.8, 2.2],\n",
       "        [7.6, 3. , 6.6, 2.1],\n",
       "        [4.9, 2.5, 4.5, 1.7],\n",
       "        [7.3, 2.9, 6.3, 1.8],\n",
       "        [6.7, 2.5, 5.8, 1.8],\n",
       "        [7.2, 3.6, 6.1, 2.5],\n",
       "        [6.5, 3.2, 5.1, 2. ],\n",
       "        [6.4, 2.7, 5.3, 1.9],\n",
       "        [6.8, 3. , 5.5, 2.1],\n",
       "        [5.7, 2.5, 5. , 2. ],\n",
       "        [5.8, 2.8, 5.1, 2.4],\n",
       "        [6.4, 3.2, 5.3, 2.3],\n",
       "        [6.5, 3. , 5.5, 1.8],\n",
       "        [7.7, 3.8, 6.7, 2.2],\n",
       "        [7.7, 2.6, 6.9, 2.3],\n",
       "        [6. , 2.2, 5. , 1.5],\n",
       "        [6.9, 3.2, 5.7, 2.3],\n",
       "        [5.6, 2.8, 4.9, 2. ],\n",
       "        [7.7, 2.8, 6.7, 2. ],\n",
       "        [6.3, 2.7, 4.9, 1.8],\n",
       "        [6.7, 3.3, 5.7, 2.1],\n",
       "        [7.2, 3.2, 6. , 1.8],\n",
       "        [6.2, 2.8, 4.8, 1.8],\n",
       "        [6.1, 3. , 4.9, 1.8],\n",
       "        [6.4, 2.8, 5.6, 2.1],\n",
       "        [7.2, 3. , 5.8, 1.6],\n",
       "        [7.4, 2.8, 6.1, 1.9],\n",
       "        [7.9, 3.8, 6.4, 2. ],\n",
       "        [6.4, 2.8, 5.6, 2.2],\n",
       "        [6.3, 2.8, 5.1, 1.5],\n",
       "        [6.1, 2.6, 5.6, 1.4],\n",
       "        [7.7, 3. , 6.1, 2.3],\n",
       "        [6.3, 3.4, 5.6, 2.4],\n",
       "        [6.4, 3.1, 5.5, 1.8],\n",
       "        [6. , 3. , 4.8, 1.8],\n",
       "        [6.9, 3.1, 5.4, 2.1],\n",
       "        [6.7, 3.1, 5.6, 2.4],\n",
       "        [6.9, 3.1, 5.1, 2.3],\n",
       "        [5.8, 2.7, 5.1, 1.9],\n",
       "        [6.8, 3.2, 5.9, 2.3],\n",
       "        [6.7, 3.3, 5.7, 2.5],\n",
       "        [6.7, 3. , 5.2, 2.3],\n",
       "        [6.3, 2.5, 5. , 1.9],\n",
       "        [6.5, 3. , 5.2, 2. ],\n",
       "        [6.2, 3.4, 5.4, 2.3],\n",
       "        [5.9, 3. , 5.1, 1.8]]),\n",
       " 'target': array([0, 0, 0, 0, 0, 0, 0, 0, 0, 0, 0, 0, 0, 0, 0, 0, 0, 0, 0, 0, 0, 0,\n",
       "        0, 0, 0, 0, 0, 0, 0, 0, 0, 0, 0, 0, 0, 0, 0, 0, 0, 0, 0, 0, 0, 0,\n",
       "        0, 0, 0, 0, 0, 0, 1, 1, 1, 1, 1, 1, 1, 1, 1, 1, 1, 1, 1, 1, 1, 1,\n",
       "        1, 1, 1, 1, 1, 1, 1, 1, 1, 1, 1, 1, 1, 1, 1, 1, 1, 1, 1, 1, 1, 1,\n",
       "        1, 1, 1, 1, 1, 1, 1, 1, 1, 1, 1, 1, 2, 2, 2, 2, 2, 2, 2, 2, 2, 2,\n",
       "        2, 2, 2, 2, 2, 2, 2, 2, 2, 2, 2, 2, 2, 2, 2, 2, 2, 2, 2, 2, 2, 2,\n",
       "        2, 2, 2, 2, 2, 2, 2, 2, 2, 2, 2, 2, 2, 2, 2, 2, 2, 2]),\n",
       " 'frame': None,\n",
       " 'target_names': array(['setosa', 'versicolor', 'virginica'], dtype='<U10'),\n",
       " 'DESCR': '.. _iris_dataset:\\n\\nIris plants dataset\\n--------------------\\n\\n**Data Set Characteristics:**\\n\\n    :Number of Instances: 150 (50 in each of three classes)\\n    :Number of Attributes: 4 numeric, predictive attributes and the class\\n    :Attribute Information:\\n        - sepal length in cm\\n        - sepal width in cm\\n        - petal length in cm\\n        - petal width in cm\\n        - class:\\n                - Iris-Setosa\\n                - Iris-Versicolour\\n                - Iris-Virginica\\n                \\n    :Summary Statistics:\\n\\n    ============== ==== ==== ======= ===== ====================\\n                    Min  Max   Mean    SD   Class Correlation\\n    ============== ==== ==== ======= ===== ====================\\n    sepal length:   4.3  7.9   5.84   0.83    0.7826\\n    sepal width:    2.0  4.4   3.05   0.43   -0.4194\\n    petal length:   1.0  6.9   3.76   1.76    0.9490  (high!)\\n    petal width:    0.1  2.5   1.20   0.76    0.9565  (high!)\\n    ============== ==== ==== ======= ===== ====================\\n\\n    :Missing Attribute Values: None\\n    :Class Distribution: 33.3% for each of 3 classes.\\n    :Creator: R.A. Fisher\\n    :Donor: Michael Marshall (MARSHALL%PLU@io.arc.nasa.gov)\\n    :Date: July, 1988\\n\\nThe famous Iris database, first used by Sir R.A. Fisher. The dataset is taken\\nfrom Fisher\\'s paper. Note that it\\'s the same as in R, but not as in the UCI\\nMachine Learning Repository, which has two wrong data points.\\n\\nThis is perhaps the best known database to be found in the\\npattern recognition literature.  Fisher\\'s paper is a classic in the field and\\nis referenced frequently to this day.  (See Duda & Hart, for example.)  The\\ndata set contains 3 classes of 50 instances each, where each class refers to a\\ntype of iris plant.  One class is linearly separable from the other 2; the\\nlatter are NOT linearly separable from each other.\\n\\n.. topic:: References\\n\\n   - Fisher, R.A. \"The use of multiple measurements in taxonomic problems\"\\n     Annual Eugenics, 7, Part II, 179-188 (1936); also in \"Contributions to\\n     Mathematical Statistics\" (John Wiley, NY, 1950).\\n   - Duda, R.O., & Hart, P.E. (1973) Pattern Classification and Scene Analysis.\\n     (Q327.D83) John Wiley & Sons.  ISBN 0-471-22361-1.  See page 218.\\n   - Dasarathy, B.V. (1980) \"Nosing Around the Neighborhood: A New System\\n     Structure and Classification Rule for Recognition in Partially Exposed\\n     Environments\".  IEEE Transactions on Pattern Analysis and Machine\\n     Intelligence, Vol. PAMI-2, No. 1, 67-71.\\n   - Gates, G.W. (1972) \"The Reduced Nearest Neighbor Rule\".  IEEE Transactions\\n     on Information Theory, May 1972, 431-433.\\n   - See also: 1988 MLC Proceedings, 54-64.  Cheeseman et al\"s AUTOCLASS II\\n     conceptual clustering system finds 3 classes in the data.\\n   - Many, many more ...',\n",
       " 'feature_names': ['sepal length (cm)',\n",
       "  'sepal width (cm)',\n",
       "  'petal length (cm)',\n",
       "  'petal width (cm)'],\n",
       " 'filename': 'iris.csv',\n",
       " 'data_module': 'sklearn.datasets.data'}"
      ]
     },
     "execution_count": 1,
     "metadata": {},
     "output_type": "execute_result"
    }
   ],
   "source": [
    "from sklearn.datasets import load_iris\n",
    "import matplotlib.pyplot as plt\n",
    "iris = load_iris()\n",
    "iris"
   ]
  },
  {
   "cell_type": "markdown",
   "id": "6d02860b",
   "metadata": {},
   "source": [
    "# Classify using kNN with different k and simple neural network as described in Classification section.\n"
   ]
  },
  {
   "cell_type": "markdown",
   "id": "75cb9ca1",
   "metadata": {},
   "source": [
    "# kNN with different k"
   ]
  },
  {
   "cell_type": "code",
   "execution_count": 2,
   "id": "a79845f9",
   "metadata": {},
   "outputs": [],
   "source": [
    "from sklearn.model_selection import train_test_split\n",
    "X = iris.data\n",
    "Y =  iris.target\n",
    "X_train, X_test, Y_train, Y_test = train_test_split(X, Y, test_size=0.2, random_state=42)"
   ]
  },
  {
   "cell_type": "code",
   "execution_count": 3,
   "id": "f8a0874d",
   "metadata": {
    "scrolled": true
   },
   "outputs": [
    {
     "name": "stdout",
     "output_type": "stream",
     "text": [
      "Test loss: 0.02703100720721139\n",
      "Test accuracy: 1.0\n"
     ]
    }
   ],
   "source": [
    "# Import necessary modules\n",
    "from sklearn.neighbors import KNeighborsClassifier\n",
    "import numpy as np\n",
    "from sklearn.linear_model import LogisticRegression\n",
    "from sklearn.metrics import accuracy_score, log_loss\n",
    "\n",
    "#Create a k-NN classifier with 3 neighbors: knn\n",
    "knn = KNeighborsClassifier(n_neighbors=3)\n",
    "\n",
    "#Fit the classifier to the training data\n",
    "knn.fit(X_train, Y_train)\n",
    "y_pred = knn.predict(X_test)\n",
    "\n",
    "# knn score the model on the test set\n",
    "acc = knn.score(X_test, Y_test)\n",
    "\n",
    "# print the log loss\n",
    "y_pred_prob = knn.predict_proba(X_test)\n",
    "loss = log_loss(Y_test, y_pred_prob)\n",
    "print(\"Test loss:\", loss)\n",
    "\n",
    "#Print the accuracy\n",
    "\n",
    "print(\"Test accuracy:\", acc)"
   ]
  },
  {
   "cell_type": "code",
   "execution_count": 4,
   "id": "71cbd7a5",
   "metadata": {},
   "outputs": [
    {
     "name": "stdout",
     "output_type": "stream",
     "text": [
      "1/8 [====================] - 1.0000 - k: 1\n",
      "2/8 [====================] - 1.0000 - k: 2\n",
      "3/8 [====================] - 1.0000 - k: 3\n",
      "4/8 [====================] - 1.0000 - k: 4\n",
      "5/8 [====================] - 1.0000 - k: 5\n",
      "6/8 [====================] - 1.0000 - k: 6\n",
      "7/8 [=================== ] - 0.9667 - k: 7\n",
      "8/8 [====================] - 1.0000 - k: 8\n",
      "Test accuracy: 1.0000\n"
     ]
    },
    {
     "data": {
      "image/png": "[encoded data removed]",
      "text/plain": [
       "<Figure size 640x480 with 1 Axes>"
      ]
     },
     "metadata": {},
     "output_type": "display_data"
    }
   ],
   "source": [
    "# Setup arrays to store train and test accuracies\n",
    "neighbors = np.arange(1,9)\n",
    "train_accuracy = np.empty(len(neighbors))\n",
    "test_accuracy = np.empty(len(neighbors))\n",
    "\n",
    "# Loop over different values of k\n",
    "for i, k in enumerate(neighbors):\n",
    "    # Setup a k-NN Classifier with k neighbors: knn\n",
    "    knn = KNeighborsClassifier(n_neighbors=k)\n",
    "\n",
    "    # Fit the classifier to the training data\n",
    "    knn.fit(X_train, Y_train)\n",
    "\n",
    "    # Compute accuracy on the training set\n",
    "    train_accuracy[i] = knn.score(X_train, Y_train)\n",
    "\n",
    "    # Compute accuracy on the testing set\n",
    "    test_accuracy[i] = knn.score(X_test, Y_test)\n",
    "\n",
    "    # Print the accuracy for the current value of k\n",
    "    print(f\"{i+1}/{len(neighbors)} [{'='*int(test_accuracy[i]*20):<20}] - {test_accuracy[i]:.4f} - k: {k}\")\n",
    "\n",
    "# Print the final testing accuracy\n",
    "print(f\"Test accuracy: {test_accuracy[-1]:.4f}\")\n",
    "\n",
    "# Generate plot\n",
    "plt.title('k-NN: Varying Number of Neighbors')\n",
    "plt.plot(neighbors, test_accuracy, label = 'Testing Accuracy')\n",
    "plt.plot(neighbors, train_accuracy, label = 'Training Accuracy')\n",
    "plt.legend()\n",
    "plt.xlabel('Number of Neighbors')\n",
    "plt.ylabel('Accuracy')\n",
    "plt.show()\n"
   ]
  },
  {
   "cell_type": "markdown",
   "id": "93c37d78",
   "metadata": {},
   "source": [
    "# simple neural network"
   ]
  },
  {
   "cell_type": "code",
   "execution_count": 5,
   "id": "e627854f",
   "metadata": {},
   "outputs": [
    {
     "name": "stdout",
     "output_type": "stream",
     "text": [
      "Epoch 1/50\n",
      "12/12 [==============================] - 0s 1ms/step - loss: 1.1488 - accuracy: 0.3750\n",
      "Epoch 2/50\n",
      "12/12 [==============================] - 0s 907us/step - loss: 1.0754 - accuracy: 0.6167\n",
      "Epoch 3/50\n",
      "12/12 [==============================] - 0s 907us/step - loss: 1.0286 - accuracy: 0.6417\n",
      "Epoch 4/50\n",
      "12/12 [==============================] - 0s 997us/step - loss: 1.0076 - accuracy: 0.6167\n",
      "Epoch 5/50\n",
      "12/12 [==============================] - 0s 907us/step - loss: 0.9960 - accuracy: 0.5333\n",
      "Epoch 6/50\n",
      "12/12 [==============================] - 0s 909us/step - loss: 0.9852 - accuracy: 0.5250\n",
      "Epoch 7/50\n",
      "12/12 [==============================] - 0s 997us/step - loss: 0.9755 - accuracy: 0.5417\n",
      "Epoch 8/50\n",
      "12/12 [==============================] - 0s 1000us/step - loss: 0.9656 - accuracy: 0.5250\n",
      "Epoch 9/50\n",
      "12/12 [==============================] - 0s 907us/step - loss: 0.9556 - accuracy: 0.5333\n",
      "Epoch 10/50\n",
      "12/12 [==============================] - 0s 907us/step - loss: 0.9439 - accuracy: 0.5417\n",
      "Epoch 11/50\n",
      "12/12 [==============================] - 0s 909us/step - loss: 0.9336 - accuracy: 0.5417\n",
      "Epoch 12/50\n",
      "12/12 [==============================] - 0s 997us/step - loss: 0.9223 - accuracy: 0.5250\n",
      "Epoch 13/50\n",
      "12/12 [==============================] - 0s 1ms/step - loss: 0.9123 - accuracy: 0.5167\n",
      "Epoch 14/50\n",
      "12/12 [==============================] - 0s 997us/step - loss: 0.9020 - accuracy: 0.5333\n",
      "Epoch 15/50\n",
      "12/12 [==============================] - 0s 997us/step - loss: 0.8901 - accuracy: 0.5250\n",
      "Epoch 16/50\n",
      "12/12 [==============================] - 0s 907us/step - loss: 0.8783 - accuracy: 0.5250\n",
      "Epoch 17/50\n",
      "12/12 [==============================] - 0s 907us/step - loss: 0.8672 - accuracy: 0.5250\n",
      "Epoch 18/50\n",
      "12/12 [==============================] - 0s 997us/step - loss: 0.8571 - accuracy: 0.5250\n",
      "Epoch 19/50\n",
      "12/12 [==============================] - 0s 909us/step - loss: 0.8462 - accuracy: 0.5250\n",
      "Epoch 20/50\n",
      "12/12 [==============================] - 0s 907us/step - loss: 0.8347 - accuracy: 0.5167\n",
      "Epoch 21/50\n",
      "12/12 [==============================] - 0s 910us/step - loss: 0.8237 - accuracy: 0.5167\n",
      "Epoch 22/50\n",
      "12/12 [==============================] - 0s 907us/step - loss: 0.8127 - accuracy: 0.5083\n",
      "Epoch 23/50\n",
      "12/12 [==============================] - 0s 907us/step - loss: 0.8018 - accuracy: 0.5333\n",
      "Epoch 24/50\n",
      "12/12 [==============================] - 0s 907us/step - loss: 0.7916 - accuracy: 0.5167\n",
      "Epoch 25/50\n",
      "12/12 [==============================] - 0s 907us/step - loss: 0.7812 - accuracy: 0.5250\n",
      "Epoch 26/50\n",
      "12/12 [==============================] - 0s 941us/step - loss: 0.7706 - accuracy: 0.5333\n",
      "Epoch 27/50\n",
      "12/12 [==============================] - 0s 907us/step - loss: 0.7605 - accuracy: 0.5417\n",
      "Epoch 28/50\n",
      "12/12 [==============================] - 0s 907us/step - loss: 0.7519 - accuracy: 0.5167\n",
      "Epoch 29/50\n",
      "12/12 [==============================] - 0s 907us/step - loss: 0.7408 - accuracy: 0.5250\n",
      "Epoch 30/50\n",
      "12/12 [==============================] - 0s 910us/step - loss: 0.7328 - accuracy: 0.5500\n",
      "Epoch 31/50\n",
      "12/12 [==============================] - 0s 907us/step - loss: 0.7221 - accuracy: 0.5750\n",
      "Epoch 32/50\n",
      "12/12 [==============================] - 0s 997us/step - loss: 0.7133 - accuracy: 0.5583\n",
      "Epoch 33/50\n",
      "12/12 [==============================] - 0s 907us/step - loss: 0.7046 - accuracy: 0.5667\n",
      "Epoch 34/50\n",
      "12/12 [==============================] - 0s 943us/step - loss: 0.6956 - accuracy: 0.5667\n",
      "Epoch 35/50\n",
      "12/12 [==============================] - 0s 907us/step - loss: 0.6876 - accuracy: 0.5583\n",
      "Epoch 36/50\n",
      "12/12 [==============================] - 0s 1ms/step - loss: 0.6798 - accuracy: 0.5583\n",
      "Epoch 37/50\n",
      "12/12 [==============================] - 0s 997us/step - loss: 0.6734 - accuracy: 0.5667\n",
      "Epoch 38/50\n",
      "12/12 [==============================] - 0s 906us/step - loss: 0.6642 - accuracy: 0.5750\n",
      "Epoch 39/50\n",
      "12/12 [==============================] - 0s 907us/step - loss: 0.6577 - accuracy: 0.5917\n",
      "Epoch 40/50\n",
      "12/12 [==============================] - 0s 907us/step - loss: 0.6506 - accuracy: 0.5750\n",
      "Epoch 41/50\n",
      "12/12 [==============================] - 0s 907us/step - loss: 0.6436 - accuracy: 0.5750\n",
      "Epoch 42/50\n",
      "12/12 [==============================] - 0s 907us/step - loss: 0.6368 - accuracy: 0.5917\n",
      "Epoch 43/50\n",
      "12/12 [==============================] - 0s 907us/step - loss: 0.6298 - accuracy: 0.5917\n",
      "Epoch 44/50\n",
      "12/12 [==============================] - 0s 995us/step - loss: 0.6238 - accuracy: 0.5917\n",
      "Epoch 45/50\n",
      "12/12 [==============================] - 0s 997us/step - loss: 0.6176 - accuracy: 0.6000\n",
      "Epoch 46/50\n",
      "12/12 [==============================] - 0s 907us/step - loss: 0.6117 - accuracy: 0.6250\n",
      "Epoch 47/50\n",
      "12/12 [==============================] - 0s 907us/step - loss: 0.6068 - accuracy: 0.6167\n",
      "Epoch 48/50\n",
      "12/12 [==============================] - 0s 907us/step - loss: 0.6002 - accuracy: 0.6167\n",
      "Epoch 49/50\n",
      "12/12 [==============================] - 0s 907us/step - loss: 0.5949 - accuracy: 0.6250\n",
      "Epoch 50/50\n",
      "12/12 [==============================] - 0s 907us/step - loss: 0.5904 - accuracy: 0.6167\n",
      "1/1 [==============================] - 0s 122ms/step - loss: 0.5746 - accuracy: 0.7000\n",
      "Test loss: 0.5746402740478516\n",
      "Test accuracy: 0.699999988079071\n"
     ]
    }
   ],
   "source": [
    "import tensorflow as tf\n",
    "import numpy as np\n",
    "from sklearn.datasets import load_iris\n",
    "from sklearn.model_selection import train_test_split\n",
    "from sklearn.preprocessing import OneHotEncoder\n",
    "\n",
    "# Load Iris dataset\n",
    "iris = load_iris()\n",
    "X, y = iris.data, iris.target\n",
    "\n",
    "# One-hot encode target variable\n",
    "enc = OneHotEncoder()\n",
    "y = enc.fit_transform(y.reshape(-1,1)).toarray()\n",
    "\n",
    "# Split data into train and test sets\n",
    "X_train, X_test, y_train, y_test = train_test_split(X, y, test_size=0.2, random_state=42)\n",
    "\n",
    "# Define the neural network architecture\n",
    "model = tf.keras.Sequential([\n",
    "    tf.keras.layers.Dense(10, input_dim=4, activation='relu'),\n",
    "    tf.keras.layers.Dense(3, activation='softmax')\n",
    "])\n",
    "\n",
    "# Compile the model\n",
    "model.compile(loss='categorical_crossentropy', optimizer='adam', metrics=['accuracy'])\n",
    "\n",
    "# Train the model\n",
    "model.fit(X_train, y_train, epochs=50, batch_size=10)\n",
    "\n",
    "# Evaluate the model on the test set\n",
    "loss, accuracy = model.evaluate(X_test, y_test)\n",
    "\n",
    "print(\"Test loss:\", loss)\n",
    "print(\"Test accuracy:\", accuracy)\n"
   ]
  },
  {
   "cell_type": "code",
   "execution_count": 6,
   "id": "a172a7e7",
   "metadata": {
    "scrolled": true
   },
   "outputs": [
    {
     "name": "stdout",
     "output_type": "stream",
     "text": [
      "1/1 [==============================] - 0s 18ms/step - loss: 1.1491 - accuracy: 0.6333\n",
      "Test accuracy: 0.6333333253860474\n"
     ]
    },
    {
     "data": {
      "image/png": "[encoded data removed]",
      "text/plain": [
       "<Figure size 640x480 with 1 Axes>"
      ]
     },
     "metadata": {},
     "output_type": "display_data"
    }
   ],
   "source": [
    "import numpy as np\n",
    "import tensorflow as tf\n",
    "from sklearn.datasets import load_iris\n",
    "from sklearn.model_selection import train_test_split\n",
    "from tensorflow import keras\n",
    "\n",
    "# Load the Iris dataset\n",
    "iris = load_iris()\n",
    "X = iris.data\n",
    "y = iris.target\n",
    "\n",
    "# Split the dataset into training and testing sets\n",
    "X_train, X_test, Y_train, Y_test = train_test_split(X, y, test_size=0.2, random_state=42)\n",
    "\n",
    "# Create a simple neural network with one hidden layer of 10 nodes\n",
    "model = keras.Sequential([\n",
    "    keras.layers.Dense(10, activation='relu', input_shape=(X_train.shape[1],)),\n",
    "    keras.layers.Dense(3, activation='softmax')\n",
    "])\n",
    "\n",
    "# Compile the model with categorical crossentropy loss and Adam optimizer\n",
    "model.compile(loss='sparse_categorical_crossentropy', optimizer='adam', metrics=['accuracy'])\n",
    "\n",
    "# Fit the model to the training data\n",
    "history = model.fit(X_train, Y_train, validation_data=(X_test, Y_test), epochs=50, batch_size=32, verbose=0)\n",
    "\n",
    "# Evaluate the model on the test data\n",
    "test_loss, test_accuracy = model.evaluate(X_test, Y_test)\n",
    "\n",
    "# Print the test accuracy\n",
    "print('Test accuracy:', test_accuracy)\n",
    "\n",
    "# Plot the training and validation accuracy over epochs\n",
    "import matplotlib.pyplot as plt\n",
    "\n",
    "plt.plot(history.history['accuracy'], label='Training Accuracy')\n",
    "plt.plot(history.history['val_accuracy'], label='Validation Accuracy')\n",
    "plt.legend()\n",
    "plt.xlabel('Epoch')\n",
    "plt.ylabel('Accuracy')\n",
    "plt.show()\n"
   ]
  },
  {
   "cell_type": "markdown",
   "id": "66cbd7b0",
   "metadata": {},
   "source": [
    "# Classify using deep learning with CNN (1 plus)\n"
   ]
  },
  {
   "cell_type": "code",
   "execution_count": 7,
   "id": "45675f37",
   "metadata": {},
   "outputs": [],
   "source": [
    "import keras\n",
    "from keras.models import Sequential\n",
    "from keras.layers import Conv2D, MaxPooling2D, Flatten, Dense\n",
    "from sklearn.datasets import load_iris\n",
    "from sklearn.model_selection import train_test_split\n",
    "from sklearn.preprocessing import StandardScaler\n",
    "import matplotlib.pyplot as plt"
   ]
  },
  {
   "cell_type": "code",
   "execution_count": 8,
   "id": "15bae685",
   "metadata": {},
   "outputs": [],
   "source": [
    "# Load the Iris dataset\n",
    "iris = load_iris()\n",
    "X = iris.data\n",
    "y = iris.target\n",
    "\n",
    "# Split the dataset into training and testing sets\n",
    "X_train, X_test, y_train, y_test = train_test_split(X, y, test_size=0.2, random_state=42)\n",
    "\n",
    "# Standardize the data\n",
    "scaler = StandardScaler()\n",
    "X_train = scaler.fit_transform(X_train)\n",
    "X_test = scaler.transform(X_test)\n",
    "\n",
    "# Reshape the data to match the input shape of a CNN\n",
    "X_train = X_train.reshape(-1, 4, 1, 1)\n",
    "X_test = X_test.reshape(-1, 4, 1, 1)\n"
   ]
  },
  {
   "cell_type": "code",
   "execution_count": 9,
   "id": "751571b4",
   "metadata": {
    "scrolled": true
   },
   "outputs": [
    {
     "name": "stdout",
     "output_type": "stream",
     "text": [
      "Epoch 1/50\n",
      "4/4 [==============================] - 1s 45ms/step - loss: 1.1287 - accuracy: 0.2083 - val_loss: 1.1180 - val_accuracy: 0.1333\n",
      "Epoch 2/50\n",
      "4/4 [==============================] - 0s 8ms/step - loss: 1.0939 - accuracy: 0.3000 - val_loss: 1.0864 - val_accuracy: 0.3667\n",
      "Epoch 3/50\n",
      "4/4 [==============================] - 0s 8ms/step - loss: 1.0680 - accuracy: 0.3417 - val_loss: 1.0630 - val_accuracy: 0.3667\n",
      "Epoch 4/50\n",
      "4/4 [==============================] - 0s 8ms/step - loss: 1.0433 - accuracy: 0.3417 - val_loss: 1.0427 - val_accuracy: 0.3667\n",
      "Epoch 5/50\n",
      "4/4 [==============================] - 0s 8ms/step - loss: 1.0252 - accuracy: 0.3583 - val_loss: 1.0245 - val_accuracy: 0.4000\n",
      "Epoch 6/50\n",
      "4/4 [==============================] - 0s 9ms/step - loss: 1.0091 - accuracy: 0.4250 - val_loss: 1.0083 - val_accuracy: 0.4667\n",
      "Epoch 7/50\n",
      "4/4 [==============================] - 0s 8ms/step - loss: 0.9922 - accuracy: 0.5083 - val_loss: 0.9915 - val_accuracy: 0.5333\n",
      "Epoch 8/50\n",
      "4/4 [==============================] - 0s 8ms/step - loss: 0.9773 - accuracy: 0.5333 - val_loss: 0.9769 - val_accuracy: 0.6000\n",
      "Epoch 9/50\n",
      "4/4 [==============================] - 0s 9ms/step - loss: 0.9629 - accuracy: 0.5917 - val_loss: 0.9616 - val_accuracy: 0.6000\n",
      "Epoch 10/50\n",
      "4/4 [==============================] - 0s 8ms/step - loss: 0.9475 - accuracy: 0.6167 - val_loss: 0.9460 - val_accuracy: 0.6333\n",
      "Epoch 11/50\n",
      "4/4 [==============================] - 0s 8ms/step - loss: 0.9315 - accuracy: 0.6500 - val_loss: 0.9295 - val_accuracy: 0.6333\n",
      "Epoch 12/50\n",
      "4/4 [==============================] - 0s 8ms/step - loss: 0.9170 - accuracy: 0.6583 - val_loss: 0.9154 - val_accuracy: 0.6333\n",
      "Epoch 13/50\n",
      "4/4 [==============================] - 0s 8ms/step - loss: 0.9032 - accuracy: 0.6667 - val_loss: 0.9004 - val_accuracy: 0.6333\n",
      "Epoch 14/50\n",
      "4/4 [==============================] - 0s 8ms/step - loss: 0.8900 - accuracy: 0.6667 - val_loss: 0.8866 - val_accuracy: 0.6333\n",
      "Epoch 15/50\n",
      "4/4 [==============================] - 0s 8ms/step - loss: 0.8764 - accuracy: 0.6667 - val_loss: 0.8757 - val_accuracy: 0.6333\n",
      "Epoch 16/50\n",
      "4/4 [==============================] - 0s 8ms/step - loss: 0.8626 - accuracy: 0.6667 - val_loss: 0.8627 - val_accuracy: 0.6333\n",
      "Epoch 17/50\n",
      "4/4 [==============================] - 0s 8ms/step - loss: 0.8498 - accuracy: 0.6667 - val_loss: 0.8509 - val_accuracy: 0.6333\n",
      "Epoch 18/50\n",
      "4/4 [==============================] - 0s 7ms/step - loss: 0.8371 - accuracy: 0.6667 - val_loss: 0.8407 - val_accuracy: 0.6667\n",
      "Epoch 19/50\n",
      "4/4 [==============================] - 0s 8ms/step - loss: 0.8240 - accuracy: 0.6667 - val_loss: 0.8305 - val_accuracy: 0.6667\n",
      "Epoch 20/50\n",
      "4/4 [==============================] - 0s 8ms/step - loss: 0.8118 - accuracy: 0.6833 - val_loss: 0.8224 - val_accuracy: 0.6667\n",
      "Epoch 21/50\n",
      "4/4 [==============================] - 0s 8ms/step - loss: 0.8000 - accuracy: 0.6833 - val_loss: 0.8110 - val_accuracy: 0.6667\n",
      "Epoch 22/50\n",
      "4/4 [==============================] - 0s 8ms/step - loss: 0.7872 - accuracy: 0.7000 - val_loss: 0.8006 - val_accuracy: 0.6667\n",
      "Epoch 23/50\n",
      "4/4 [==============================] - 0s 8ms/step - loss: 0.7744 - accuracy: 0.7000 - val_loss: 0.7923 - val_accuracy: 0.6000\n",
      "Epoch 24/50\n",
      "4/4 [==============================] - 0s 8ms/step - loss: 0.7628 - accuracy: 0.7000 - val_loss: 0.7833 - val_accuracy: 0.6000\n",
      "Epoch 25/50\n",
      "4/4 [==============================] - 0s 8ms/step - loss: 0.7511 - accuracy: 0.6917 - val_loss: 0.7713 - val_accuracy: 0.6000\n",
      "Epoch 26/50\n",
      "4/4 [==============================] - 0s 9ms/step - loss: 0.7401 - accuracy: 0.6833 - val_loss: 0.7623 - val_accuracy: 0.6667\n",
      "Epoch 27/50\n",
      "4/4 [==============================] - 0s 8ms/step - loss: 0.7287 - accuracy: 0.6917 - val_loss: 0.7591 - val_accuracy: 0.6667\n",
      "Epoch 28/50\n",
      "4/4 [==============================] - 0s 8ms/step - loss: 0.7170 - accuracy: 0.6917 - val_loss: 0.7561 - val_accuracy: 0.6000\n",
      "Epoch 29/50\n",
      "4/4 [==============================] - 0s 8ms/step - loss: 0.7061 - accuracy: 0.7000 - val_loss: 0.7496 - val_accuracy: 0.6667\n",
      "Epoch 30/50\n",
      "4/4 [==============================] - 0s 8ms/step - loss: 0.6953 - accuracy: 0.7083 - val_loss: 0.7424 - val_accuracy: 0.6667\n",
      "Epoch 31/50\n",
      "4/4 [==============================] - 0s 8ms/step - loss: 0.6841 - accuracy: 0.7250 - val_loss: 0.7381 - val_accuracy: 0.6667\n",
      "Epoch 32/50\n",
      "4/4 [==============================] - 0s 8ms/step - loss: 0.6731 - accuracy: 0.7250 - val_loss: 0.7332 - val_accuracy: 0.6667\n",
      "Epoch 33/50\n",
      "4/4 [==============================] - 0s 8ms/step - loss: 0.6634 - accuracy: 0.7250 - val_loss: 0.7204 - val_accuracy: 0.7000\n",
      "Epoch 34/50\n",
      "4/4 [==============================] - 0s 8ms/step - loss: 0.6525 - accuracy: 0.7500 - val_loss: 0.7172 - val_accuracy: 0.7000\n",
      "Epoch 35/50\n",
      "4/4 [==============================] - 0s 8ms/step - loss: 0.6422 - accuracy: 0.7583 - val_loss: 0.7105 - val_accuracy: 0.7000\n",
      "Epoch 36/50\n",
      "4/4 [==============================] - 0s 8ms/step - loss: 0.6315 - accuracy: 0.7833 - val_loss: 0.7040 - val_accuracy: 0.7000\n",
      "Epoch 37/50\n",
      "4/4 [==============================] - 0s 8ms/step - loss: 0.6249 - accuracy: 0.7833 - val_loss: 0.7019 - val_accuracy: 0.7000\n",
      "Epoch 38/50\n",
      "4/4 [==============================] - 0s 8ms/step - loss: 0.6135 - accuracy: 0.7917 - val_loss: 0.6909 - val_accuracy: 0.7000\n",
      "Epoch 39/50\n",
      "4/4 [==============================] - 0s 8ms/step - loss: 0.6034 - accuracy: 0.8000 - val_loss: 0.6870 - val_accuracy: 0.7000\n",
      "Epoch 40/50\n",
      "4/4 [==============================] - 0s 8ms/step - loss: 0.5956 - accuracy: 0.8000 - val_loss: 0.6795 - val_accuracy: 0.7333\n",
      "Epoch 41/50\n",
      "4/4 [==============================] - 0s 8ms/step - loss: 0.5856 - accuracy: 0.8083 - val_loss: 0.6811 - val_accuracy: 0.7333\n",
      "Epoch 42/50\n",
      "4/4 [==============================] - 0s 8ms/step - loss: 0.5781 - accuracy: 0.8000 - val_loss: 0.6823 - val_accuracy: 0.7667\n",
      "Epoch 43/50\n",
      "4/4 [==============================] - 0s 8ms/step - loss: 0.5689 - accuracy: 0.8000 - val_loss: 0.6760 - val_accuracy: 0.7667\n",
      "Epoch 44/50\n",
      "4/4 [==============================] - 0s 8ms/step - loss: 0.5618 - accuracy: 0.8083 - val_loss: 0.6660 - val_accuracy: 0.7667\n",
      "Epoch 45/50\n",
      "4/4 [==============================] - 0s 9ms/step - loss: 0.5555 - accuracy: 0.8083 - val_loss: 0.6580 - val_accuracy: 0.7667\n",
      "Epoch 46/50\n",
      "4/4 [==============================] - 0s 8ms/step - loss: 0.5457 - accuracy: 0.8167 - val_loss: 0.6555 - val_accuracy: 0.7667\n",
      "Epoch 47/50\n",
      "4/4 [==============================] - 0s 8ms/step - loss: 0.5382 - accuracy: 0.8167 - val_loss: 0.6571 - val_accuracy: 0.7667\n",
      "Epoch 48/50\n",
      "4/4 [==============================] - 0s 8ms/step - loss: 0.5310 - accuracy: 0.8167 - val_loss: 0.6551 - val_accuracy: 0.7667\n",
      "Epoch 49/50\n",
      "4/4 [==============================] - 0s 9ms/step - loss: 0.5251 - accuracy: 0.8167 - val_loss: 0.6515 - val_accuracy: 0.7667\n",
      "Epoch 50/50\n",
      "4/4 [==============================] - 0s 8ms/step - loss: 0.5185 - accuracy: 0.8250 - val_loss: 0.6415 - val_accuracy: 0.7667\n"
     ]
    }
   ],
   "source": [
    "# Define the CNN model\n",
    "model = Sequential()\n",
    "model.add(Conv2D(filters=32, kernel_size=(2, 1), activation='relu', input_shape=(4, 1, 1)))\n",
    "model.add(MaxPooling2D(pool_size=(2, 1)))\n",
    "model.add(Flatten())\n",
    "model.add(Dense(units=64, activation='relu'))\n",
    "model.add(Dense(units=3, activation='softmax'))\n",
    "\n",
    "# Compile the model\n",
    "model.compile(optimizer='adam', loss='sparse_categorical_crossentropy', metrics=['accuracy'])\n",
    "\n",
    "# Train the model\n",
    "history = model.fit(X_train, y_train, epochs=50, validation_data=(X_test, y_test))\n"
   ]
  },
  {
   "cell_type": "code",
   "execution_count": 10,
   "id": "fcff481b",
   "metadata": {},
   "outputs": [
    {
     "name": "stdout",
     "output_type": "stream",
     "text": [
      "1/1 [==============================] - 0s 18ms/step - loss: 0.6415 - accuracy: 0.7667\n",
      "Test loss: 0.6415289640426636\n",
      "Test accuracy: 0.7666666507720947\n"
     ]
    },
    {
     "data": {
      "text/plain": [
       "<Figure size 640x480 with 0 Axes>"
      ]
     },
     "execution_count": 10,
     "metadata": {},
     "output_type": "execute_result"
    },
    {
     "data": {
      "image/png": "[encoded data removed]",
      "text/plain": [
       "<Figure size 640x480 with 1 Axes>"
      ]
     },
     "metadata": {},
     "output_type": "display_data"
    },
    {
     "data": {
      "text/plain": [
       "<Figure size 640x480 with 0 Axes>"
      ]
     },
     "metadata": {},
     "output_type": "display_data"
    }
   ],
   "source": [
    "# Evaluate the model on the testing set\n",
    "test_loss, test_acc = model.evaluate(X_test, y_test)\n",
    "print('Test loss:', test_loss)\n",
    "print('Test accuracy:', test_acc)\n",
    "\n",
    "# Visualize the training and validation accuracy and loss over time\n",
    "acc = history.history['accuracy']\n",
    "val_acc = history.history['val_accuracy']\n",
    "loss = history.history['loss']\n",
    "val_loss = history.history['val_loss']\n",
    "\n",
    "epochs = range(1, len(acc) + 1)\n",
    "\n",
    "plt.plot(epochs, acc, 'bo', label='Training accuracy')\n",
    "plt.plot(epochs, val_acc, 'b', label='Validation accuracy')\n",
    "plt.title('Training and validation accuracy')\n",
    "plt.xlabel('Epochs')\n",
    "plt.ylabel('Accuracy')\n",
    "plt.legend()\n",
    "\n",
    "plt.figure()\n"
   ]
  },
  {
   "cell_type": "code",
   "execution_count": 11,
   "id": "2c581920",
   "metadata": {
    "scrolled": true
   },
   "outputs": [
    {
     "data": {
      "image/png": "[encoded data removed]",
      "text/plain": [
       "<Figure size 640x480 with 1 Axes>"
      ]
     },
     "metadata": {},
     "output_type": "display_data"
    }
   ],
   "source": [
    "plt.plot(epochs, loss, 'bo', label='Training loss')\n",
    "plt.plot(epochs, val_loss, 'b', label='Validation loss')\n",
    "plt.title('Training and validation loss')\n",
    "plt.xlabel('Epochs')\n",
    "plt.ylabel('Loss')\n",
    "plt.legend()\n",
    "\n",
    "plt.show()"
   ]
  },
  {
   "cell_type": "markdown",
   "id": "217165e5",
   "metadata": {},
   "source": [
    "# 2. Recommendation Systems \n"
   ]
  },
  {
   "cell_type": "markdown",
   "id": "1a96f245",
   "metadata": {},
   "source": [
    "a. Content-Based Recommendation Model\n"
   ]
  },
  {
   "cell_type": "markdown",
   "id": "b260eaa7",
   "metadata": {},
   "source": [
    "# ❖ Find list of used genres which is used to category the movies.\n"
   ]
  },
  {
   "cell_type": "code",
   "execution_count": 12,
   "id": "fa58ea59",
   "metadata": {},
   "outputs": [],
   "source": [
    "import pandas as pd\n",
    "movies = pd.read_csv('movies.csv')\n",
    "ratings = pd.read_csv('ratings.csv')\n",
    "users = pd.read_csv('users.csv')\n",
    "from sklearn.preprocessing import MultiLabelBinarizer\n",
    "import numpy as np\n",
    "from sklearn.metrics.pairwise import cosine_similarity"
   ]
  },
  {
   "cell_type": "code",
   "execution_count": 13,
   "id": "9f8872c5",
   "metadata": {},
   "outputs": [
    {
     "name": "stdout",
     "output_type": "stream",
     "text": [
      "[\"Animation|Children's|Comedy\", \"Adventure|Children's|Fantasy\", 'Comedy|Romance', 'Comedy|Drama', 'Comedy', 'Action|Crime|Thriller', 'Comedy|Romance', \"Adventure|Children's\", 'Action', 'Action|Adventure|Thriller', nan, 'Comedy|Horror', \"Animation|Children's\", 'Drama', 'Action|Adventure|Romance', 'Drama|Thriller', 'Drama|Romance', 'Thriller', 'Comedy', 'Action', 'Action|Comedy|Drama', 'Crime|Drama|Thriller', 'Thriller', 'Drama|Sci-Fi', 'Drama|Romance', 'Drama', 'Drama', 'Romance', nan, 'Drama', 'Drama', 'Drama|Sci-Fi', 'Adventure|Romance', \"Children's|Comedy|Drama\", 'Drama|Romance', 'Drama', 'Documentary', 'Comedy', 'Comedy|Romance', nan, 'Drama|War', 'Action|Crime|Drama', 'Drama', 'Action|Adventure', 'Comedy|Drama', 'Drama|Romance', 'Crime|Thriller', \"Animation|Children's|Musical|Romance\", 'Drama|Romance', nan, 'Action|Drama|Thriller', 'Comedy', 'Drama', nan, 'Drama', \"Adventure|Children's|Fantasy\", 'Drama', nan, nan, nan, 'Drama|Thriller', 'Drama', 'Comedy', 'Comedy|Romance', 'Comedy', 'Sci-Fi|Thriller', 'Drama', 'Comedy|Romance', 'Comedy', 'Action|Comedy|Crime|Horror|Thriller', 'Action', 'Comedy|Drama', nan, 'Drama|Romance', 'Comedy|Drama', 'Sci-Fi|Thriller', 'Documentary', nan, nan, nan, 'Crime|Drama|Romance', 'Drama', 'Drama', 'Comedy|Drama', 'Drama|Romance', 'Adventure|Drama', \"Children's|Comedy\", 'Comedy', 'Action|Thriller', nan, nan, 'Drama|Thriller', 'Comedy|Romance', 'Drama', 'Action|Thriller', 'Comedy', nan, 'Action|Thriller', 'Documentary', 'Drama|Thriller']\n"
     ]
    }
   ],
   "source": [
    "print(list(movies.genres))"
   ]
  },
  {
   "cell_type": "markdown",
   "id": "365042e5",
   "metadata": {},
   "source": [
    "# ❖ Vectorize the relationship between movies and genres and put them into Ij.\n"
   ]
  },
  {
   "cell_type": "code",
   "execution_count": 14,
   "id": "1b00260c",
   "metadata": {},
   "outputs": [
    {
     "name": "stdout",
     "output_type": "stream",
     "text": [
      "[[0 0 0 1 1 1 0 0 0 0 0 0 0 0 0 0]\n",
      " [0 0 1 0 1 0 0 0 0 1 0 0 0 0 0 0]\n",
      " [0 0 0 0 0 1 0 0 0 0 0 0 1 0 0 0]\n",
      " [0 0 0 0 0 1 0 0 1 0 0 0 0 0 0 0]]\n"
     ]
    }
   ],
   "source": [
    "# Convert float values in the 'genres' column to empty strings\n",
    "movies['genres'] = movies['genres'].apply(lambda x: '' if isinstance(x, float) else x)\n",
    "\n",
    "# Split the genre strings into lists of genres\n",
    "movies['genres'] = movies['genres'].apply(lambda x: x.split('|') if isinstance(x, str) else [])\n",
    "\n",
    "# Create a MultiLabelBinarizer object to binarize the genres\n",
    "mlb = MultiLabelBinarizer()\n",
    "\n",
    "# Binarize the genres for each movie and create a new dataframe with the binary vectors\n",
    "genres = pd.DataFrame(mlb.fit_transform(movies['genres']), columns=mlb.classes_, index=movies.index)\n",
    "\n",
    "# Select the subset of the binary vectors corresponding to the genres\n",
    "Ij = genres.values\n",
    "\n",
    "# Print the first four rows of Ij\n",
    "print(Ij[:4])\n"
   ]
  },
  {
   "cell_type": "markdown",
   "id": "19bb9d4a",
   "metadata": {},
   "source": [
    "# ❖ Compute the cosine_similarity between movies and users. Hint: you can use sklearn.metrics.pairwise and cosine_similarity for quick calculation.\n"
   ]
  },
  {
   "cell_type": "code",
   "execution_count": 15,
   "id": "b46db92a",
   "metadata": {},
   "outputs": [],
   "source": [
    "import pandas as pd\n",
    "import numpy as np\n",
    "from sklearn.metrics.pairwise import cosine_similarity\n",
    "\n",
    "ratings = pd.read_csv('ratings.csv')\n",
    "movies = pd.read_csv('movies.csv')\n",
    "\n",
    "# Assume we have a list of dictionaries called 'ratings' where each dictionary\n",
    "# represents a user's ratings for different movies\n",
    "ratings_list = []\n",
    "for _, row in ratings.iterrows():\n",
    "    rating_dict = {'userId': row['user_id'], 'movieId': row['movie_id'], 'rating': row['rating']}\n",
    "    ratings_list.append(rating_dict)\n",
    "\n",
    "# Convert the list of dictionaries to a numpy array\n",
    "ratings_matrix = np.array([list(r.values()) for r in ratings_list])\n",
    "\n",
    "# Compute cosine similarity between all pairs of rows in the matrix\n",
    "user_similarity = cosine_similarity(ratings_matrix)\n",
    "\n",
    "# Assume we have a matrix called 'movies_matrix' where each row represents a movie\n",
    "# and each column represents a feature of that movie (e.g. genre, director, etc.)\n",
    "\n",
    "# Convert movie genres to numerical values\n",
    "genres = set()\n",
    "for genre_string in movies['genres'].values:\n",
    "    if not isinstance(genre_string, str):  # check if the value is not a string\n",
    "        continue\n",
    "    genres.update(genre_string.split('|'))\n",
    "\n",
    "genre_dict = {genre: i for i, genre in enumerate(sorted(genres))}\n",
    "movies_matrix = np.zeros((movies.shape[0], len(genres)))\n",
    "for i, genre_string in enumerate(movies['genres'].values):\n",
    "    if not isinstance(genre_string, str):  # check if the value is not a string\n",
    "        continue\n",
    "    for genre in genre_string.split('|'):\n",
    "        movies_matrix[i, genre_dict[genre]] = 1\n",
    "\n",
    "# Compute cosine similarity between all pairs of rows in the matrix\n",
    "movie_similarity = cosine_similarity(movies_matrix)\n"
   ]
  },
  {
   "cell_type": "code",
   "execution_count": 16,
   "id": "e80c533c",
   "metadata": {
    "scrolled": false
   },
   "outputs": [
    {
     "name": "stdout",
     "output_type": "stream",
     "text": [
      "[[1.         0.33333333 0.40824829 ... 0.         0.         0.        ]\n",
      " [0.33333333 1.         0.         ... 0.         0.         0.        ]\n",
      " [0.40824829 0.         1.         ... 0.         0.         0.        ]\n",
      " ...\n",
      " [0.         0.         0.         ... 1.         0.         0.5       ]\n",
      " [0.         0.         0.         ... 0.         1.         0.        ]\n",
      " [0.         0.         0.         ... 0.5        0.         1.        ]]\n"
     ]
    }
   ],
   "source": [
    "print(movie_similarity)"
   ]
  },
  {
   "cell_type": "markdown",
   "id": "d18bf43d",
   "metadata": {},
   "source": [
    "# b. Collaborative Filtering Recommendation Model by Users\n"
   ]
  },
  {
   "cell_type": "markdown",
   "id": "f8254918",
   "metadata": {},
   "source": [
    "# ❖ Use train_test_split to split above dataset with the ratio 50/50. The test dataset will be used as groundtruth to evaluate the rating calculated by using the train dataset\n"
   ]
  },
  {
   "cell_type": "code",
   "execution_count": 17,
   "id": "d7127e4a",
   "metadata": {},
   "outputs": [
    {
     "name": "stdout",
     "output_type": "stream",
     "text": [
      "   user_id  movie_id  rating\n",
      "0        1         3     5.0\n",
      "1        1         4     4.0\n",
      "2        1         5     3.0\n",
      "3        1         6     3.0\n",
      "4        1         7     3.0\n",
      "5        1         9     3.0\n",
      "6        1        10     2.0\n",
      "7        1        12     4.0\n",
      "8        1        13     1.0\n",
      "9        1        15     5.0\n"
     ]
    }
   ],
   "source": [
    "import pandas as pd\n",
    "from sklearn.model_selection import train_test_split\n",
    "\n",
    "# Load the dataset\n",
    "ratings = pd.read_csv('ratings.csv')\n",
    "\n",
    "\n",
    "# Split the dataset into training and testing sets\n",
    "train_ratings, test_ratings = train_test_split(ratings, test_size=0.5, random_state=42)\n",
    "\n",
    "# Calculate ratings using the training dataset\n",
    "ratings = train_ratings.groupby(['user_id', 'movie_id'])['rating'].mean().reset_index()\n",
    "\n",
    "# Print the ratings for the first 10 users and products\n",
    "print(ratings.head(10))\n"
   ]
  },
  {
   "cell_type": "markdown",
   "id": "5dbe155d",
   "metadata": {},
   "source": [
    "# ❖ Create matrix for users, movies and ratings in both training and testing datasets. Hint"
   ]
  },
  {
   "cell_type": "markdown",
   "id": "bd26c511",
   "metadata": {},
   "source": [
    "train_data_matrix = train_data.pivot_table(index='user_id', columns='movie_id', \n",
    "values='rating').astype('float64')\n",
    "\n",
    "test_data_matrix = test_data.pivot_table(index='user_id', columns='movie_id', \n",
    "values='rating').astype('float64')"
   ]
  },
  {
   "cell_type": "code",
   "execution_count": 18,
   "id": "6cb5a352",
   "metadata": {},
   "outputs": [
    {
     "name": "stdout",
     "output_type": "stream",
     "text": [
      "Training dataset matrix shape: (100, 100)\n",
      "Testing dataset matrix shape: (100, 100)\n"
     ]
    }
   ],
   "source": [
    "import pandas as pd\n",
    "\n",
    "# Load the dataset\n",
    "ratings = pd.read_csv('ratings.csv')\n",
    "\n",
    "# Split the data into training and testing datasets\n",
    "train_data = ratings.sample(frac=0.8, random_state=42)\n",
    "test_data = ratings.drop(train_data.index)\n",
    "\n",
    "# Create matrix for training dataset\n",
    "train_data_matrix = train_data.pivot_table(index='user_id', columns='movie_id', values='rating').astype('float64')\n",
    "\n",
    "# Create matrix for testing dataset\n",
    "test_data_matrix = test_data.pivot_table(index='user_id', columns='movie_id', values='rating').astype('float64')\n",
    "\n",
    "# Print the shape of the matrices\n",
    "print('Training dataset matrix shape:', train_data_matrix.shape)\n",
    "print('Testing dataset matrix shape:', test_data_matrix.shape)\n"
   ]
  }
 ],
 "metadata": {
  "kernelspec": {
   "display_name": "Python 3 (ipykernel)",
   "language": "python",
   "name": "python3"
  },
  "language_info": {
   "codemirror_mode": {
    "name": "ipython",
    "version": 3
   },
   "file_extension": ".py",
   "mimetype": "text/x-python",
   "name": "python",
   "nbconvert_exporter": "python",
   "pygments_lexer": "ipython3",
   "version": "3.10.9"
  }
 },
 "nbformat": 4,
 "nbformat_minor": 5
}
